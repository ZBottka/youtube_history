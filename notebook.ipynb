{
 "cells": [
  {
   "cell_type": "markdown",
   "id": "26f66346",
   "metadata": {},
   "source": [
    "# YouTube Watch History Analysis\n",
    "\n",
    "This notebook analyzes YouTube watch history data from a JSON file and filters the watched videos based on certain criteria."
   ]
  },
  {
   "cell_type": "code",
   "execution_count": 27,
   "id": "bdbaf315",
   "metadata": {},
   "outputs": [],
   "source": [
    "import json\n",
    "from datetime import datetime, timedelta, timezone\n",
    "from dateutil.parser import isoparse"
   ]
  },
  {
   "cell_type": "code",
   "execution_count": 28,
   "id": "f1543afc",
   "metadata": {},
   "outputs": [],
   "source": [
    "with open(\"watch-history.json\", \"r\") as file:\n",
    "    file_content = file.read()\n",
    "\n",
    "content = json.loads(file_content)"
   ]
  },
  {
   "cell_type": "code",
   "execution_count": 36,
   "id": "2a901645",
   "metadata": {},
   "outputs": [],
   "source": [
    "titles = []\n",
    "unique_titles = set()\n",
    "\n",
    "one_year_ago = datetime.now(timezone.utc) - timedelta(days=365)\n",
    "filter_words = [\"short\", \"#\", \"https\"]\n",
    "last_date = None"
   ]
  },
  {
   "cell_type": "code",
   "execution_count": 37,
   "id": "01af79c3",
   "metadata": {},
   "outputs": [],
   "source": [
    "for watched in content:\n",
    "    title = watched[\"title\"].removeprefix(\"Watched \")\n",
    "    date_string = watched[\"time\"]\n",
    "    parsed_date = isoparse(date_string)\n",
    "    if last_date is not None:\n",
    "        if last_date - parsed_date < timedelta(minutes=1):\n",
    "            continue\n",
    "\n",
    "    last_date = parsed_date\n",
    "\n",
    "    # contains emoji\n",
    "    if any(ord(char) > 127 for char in title):\n",
    "        continue\n",
    "    if any(word in title.lower() for word in filter_words):\n",
    "        continue\n",
    "\n",
    "    if parsed_date < one_year_ago:\n",
    "        continue\n",
    "    if \"\\n\" in title:\n",
    "        title = title.split(\"\\n\")[0]\n",
    "\n",
    "    titles.append(title)\n",
    "    unique_titles.add(title)"
   ]
  },
  {
   "cell_type": "code",
   "execution_count": null,
   "id": "23a634e1",
   "metadata": {},
   "outputs": [],
   "source": [
    "print(f\"Total videos: {len(titles)}\")\n",
    "print(f\"Unique videos: {len(unique_titles)}\")\n",
    "\n",
    "with open(\"watched.txt\", \"w\") as f:\n",
    "    f.write(\"\\n\".join(unique_titles))"
   ]
  },
  {
   "cell_type": "code",
   "execution_count": null,
   "id": "cf807417",
   "metadata": {},
   "outputs": [],
   "source": [
    "from IPython.display import Markdown as md\n",
    "\n",
    "dublicates = [x for x in titles if titles.count(x) > 1]\n",
    "title_count = {}\n",
    "for title in dublicates:\n",
    "    if not title_count.get(title) == None:\n",
    "        title_count[title] = title_count[title] +1\n",
    "    else:\n",
    "        title_count[title] = 1\n",
    "\n",
    "\n",
    "sorted_titles = sorted(title_count.items(), key=lambda x: x[1], reverse=True)[:5]\n",
    "\n",
    "raw = \"# Watched multiple times\"\n",
    "for title, count in sorted_titles:\n",
    "    raw += f\"\\n- {title} - {count} times\"\n",
    "md(raw)"
   ]
  },
  {
   "cell_type": "code",
   "execution_count": 40,
   "id": "bb7706f1",
   "metadata": {},
   "outputs": [],
   "source": [
    "import os\n",
    "from dotenv import load_dotenv\n",
    "from openai import OpenAI\n",
    "\n",
    "load_dotenv()\n",
    "OPENAPI_KEY = os.getenv('OPENAPI_KEY')\n",
    "client = OpenAI(api_key=OPENAPI_KEY)"
   ]
  },
  {
   "cell_type": "code",
   "execution_count": 41,
   "id": "a7268c54",
   "metadata": {},
   "outputs": [],
   "source": [
    "insights_prompt = \"\"\"\n",
    "I have a list of video titles that represent the videos I’ve watched. Analyze this list and help me understand myself better by answering the following questions:\n",
    "\t1.\tWho am I?\n",
    "\t•\tBased on the video titles, what can you infer about my personality, habits, or lifestyle?\n",
    "\t•\tHow would you describe me to someone else based on this history?\n",
    "\t2.\tWhat is my passion?\n",
    "\t•\tWhat recurring themes or topics in the video titles suggest things I’m deeply passionate about?\n",
    "\t•\tAre there any patterns that point to hobbies, skills, or activities I’m likely to enjoy or invest my time in?\n",
    "\t3.\tWhat am I interested in?\n",
    "\t•\tWhat kinds of topics, genres, or creators am I most drawn to?\n",
    "\t•\tAre there any niche areas or unique interests that stand out?\n",
    "\t4.\tWhat is something I should be known for?\n",
    "\t•\tBased on this history, what might people associate me with or recognize me for?\n",
    "\t•\tDo my video choices reveal a talent, knowledge, or perspective I might excel in?\n",
    "\t5.\tWhat are things I care about?\n",
    "\t•\tAre there values, causes, or ideas that seem important to me based on the videos I watch?\n",
    "\t•\tDo my choices reflect a focus on self-improvement, learning, entertainment, or something else?\n",
    "\n",
    "Here’s the list of video titles:\n",
    "\n",
    "{titles}\n",
    "\n",
    "Analyze the titles and answer these questions to help me discover and define more about myself.\n",
    "\"\"\""
   ]
  },
  {
   "cell_type": "code",
   "execution_count": null,
   "id": "356eefe1",
   "metadata": {},
   "outputs": [],
   "source": [
    "response_output = None\n",
    "try:\n",
    "    response = client.chat.completions.create(\n",
    "        model=\"gpt-4o-mini\", \n",
    "        messages=[\n",
    "            {\n",
    "                \"role\": \"user\",\n",
    "                \"content\": insights_prompt.format(titles=unique_titles)\n",
    "            }\n",
    "        ],\n",
    "        max_tokens=1000,\n",
    "        temperature=0.4\n",
    "    )\n",
    "    \n",
    "    response_output = \"# AI Analysis of Your YouTube Watch History\"\n",
    "    response_output += \"\\n\\n\"\n",
    "    response_output += response.choices[0].message.content\n",
    "except Exception as e:\n",
    "    response_output = f\"Error making OpenAI API call: {e}\"\n",
    "\n",
    "md(response_output)"
   ]
  },
  {
   "cell_type": "code",
   "execution_count": null,
   "id": "8194ac75",
   "metadata": {},
   "outputs": [],
   "source": [
    "new_years_prompt = \"\"\"\n",
    "Bases on what you learned about me, what should I focus on next year? \n",
    "What are topics to concentrate on? Where should I spend more time?\n",
    "What are topics to deep dive on?\n",
    "\n",
    "Here is the analysis of my what I watched this year:\n",
    "{analysis}\n",
    "\"\"\"\n",
    "\n",
    "new_years_response = None\n",
    "try:\n",
    "    response = client.chat.completions.create(\n",
    "        model=\"gpt-4o-mini\", \n",
    "        messages=[\n",
    "            {\n",
    "                \"role\": \"user\",\n",
    "                \"content\": new_years_prompt.format(analysis=response_output)\n",
    "            }\n",
    "        ],\n",
    "        max_tokens=1000,\n",
    "        temperature=0.4\n",
    "    )\n",
    "    \n",
    "    new_years_response = response.choices[0].message.content\n",
    "except Exception as e:\n",
    "    new_years_response = f\"Error making OpenAI API call: {e}\"\n",
    "\n",
    "md(new_years_response)"
   ]
  }
 ],
 "metadata": {
  "kernelspec": {
   "display_name": "venv",
   "language": "python",
   "name": "python3"
  },
  "language_info": {
   "codemirror_mode": {
    "name": "ipython",
    "version": 3
   },
   "file_extension": ".py",
   "mimetype": "text/x-python",
   "name": "python",
   "nbconvert_exporter": "python",
   "pygments_lexer": "ipython3",
   "version": "3.12.8"
  }
 },
 "nbformat": 4,
 "nbformat_minor": 5
}
